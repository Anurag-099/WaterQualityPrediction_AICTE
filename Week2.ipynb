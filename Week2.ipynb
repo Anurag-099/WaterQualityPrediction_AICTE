{
 "cells": [
  {
   "cell_type": "code",
   "execution_count": 1,
   "metadata": {},
   "outputs": [
    {
     "ename": "ModuleNotFoundError",
     "evalue": "No module named 'pandas'",
     "output_type": "error",
     "traceback": [
      "\u001b[31m---------------------------------------------------------------------------\u001b[39m",
      "\u001b[31mModuleNotFoundError\u001b[39m                       Traceback (most recent call last)",
      "\u001b[36mCell\u001b[39m\u001b[36m \u001b[39m\u001b[32mIn[1]\u001b[39m\u001b[32m, line 2\u001b[39m\n\u001b[32m      1\u001b[39m \u001b[38;5;66;03m# Import necessary libraries\u001b[39;00m\n\u001b[32m----> \u001b[39m\u001b[32m2\u001b[39m \u001b[38;5;28;01mimport\u001b[39;00m\u001b[38;5;250m \u001b[39m\u001b[34;01mpandas\u001b[39;00m\u001b[38;5;250m \u001b[39m\u001b[38;5;28;01mas\u001b[39;00m\u001b[38;5;250m \u001b[39m\u001b[34;01mpd\u001b[39;00m\n\u001b[32m      3\u001b[39m \u001b[38;5;28;01mimport\u001b[39;00m\u001b[38;5;250m \u001b[39m\u001b[34;01mnumpy\u001b[39;00m\u001b[38;5;250m \u001b[39m\u001b[38;5;28;01mas\u001b[39;00m\u001b[38;5;250m \u001b[39m\u001b[34;01mnp\u001b[39;00m\n\u001b[32m      4\u001b[39m \u001b[38;5;28;01mfrom\u001b[39;00m\u001b[38;5;250m \u001b[39m\u001b[34;01msklearn\u001b[39;00m\u001b[34;01m.\u001b[39;00m\u001b[34;01mmultioutput\u001b[39;00m\u001b[38;5;250m \u001b[39m\u001b[38;5;28;01mimport\u001b[39;00m MultiOutputRegressor\n",
      "\u001b[31mModuleNotFoundError\u001b[39m: No module named 'pandas'"
     ]
    }
   ],
   "source": [
    "# Import necessary libraries\n",
    "import pandas as pd\n",
    "import numpy as np\n",
    "from sklearn.multioutput import MultiOutputRegressor\n",
    "from sklearn.ensemble import RandomForestRegressor\n",
    "from sklearn.model_selection import train_test_split\n",
    "from sklearn.metrics import mean_squared_error, r2_score\n",
    "import joblib\n",
    "\n",
    "# Load the dataset\n",
    "df = pd.read_csv('PB_All_2000_2021.csv', sep=';')\n",
    "\n",
    "# Data preprocessing\n",
    "df['date'] = pd.to_datetime(df['date'], format='%d.%m.%Y')\n",
    "df = df.sort_values(by=['id', 'date'])\n",
    "df['year'] = df['date'].dt.year\n",
    "df['month'] = df['date'].dt.month\n",
    "\n",
    "# Define pollutants to predict\n",
    "pollutants = ['O2', 'NO3', 'NO2', 'SO4', 'PO4', 'CL']\n",
    "\n",
    "# Drop rows with missing values in our target pollutants\n",
    "df = df.dropna(subset=pollutants)\n",
    "\n",
    "# Feature and target selection\n",
    "X = df[['id', 'year']]\n",
    "y = df[pollutants]\n",
    "\n",
    "# One-hot encode the station IDs\n",
    "X_encoded = pd.get_dummies(X, columns=['id'], drop_first=True)\n",
    "\n",
    "# Split data into train and test sets\n",
    "X_train, X_test, y_train, y_test = train_test_split(\n",
    "    X_encoded, y, test_size=0.2, random_state=42\n",
    ")\n",
    "\n",
    "# Train the model\n",
    "model = MultiOutputRegressor(RandomForestRegressor(n_estimators=100, random_state=42))\n",
    "model.fit(X_train, y_train)\n",
    "\n",
    "# Evaluate model\n",
    "y_pred = model.predict(X_test)\n",
    "\n",
    "print(\"Model Performance on the Test Data:\")\n",
    "for i, pollutant in enumerate(pollutants):\n",
    "    print(f'{pollutant}:')\n",
    "    print('   MSE:', mean_squared_error(y_test.iloc[:, i], y_pred[:, i]))\n",
    "    print('   R2:', r2_score(y_test.iloc[:, i], y_pred[:, i]))\n",
    "    print()\n",
    "\n",
    "# Example prediction\n",
    "station_id = '22'\n",
    "year_input = 2024\n",
    "\n",
    "input_data = pd.DataFrame({'year': [year_input], 'id': [station_id]})\n",
    "input_encoded = pd.get_dummies(input_data, columns=['id'])\n",
    "\n",
    "# Align with training feature columns\n",
    "missing_cols = set(X_encoded.columns) - set(input_encoded.columns)\n",
    "for col in missing_cols:\n",
    "    input_encoded[col] = 0\n",
    "input_encoded = input_encoded[X_encoded.columns]  # reorder columns\n",
    "\n",
    "# Predict pollutants\n",
    "predicted_pollutants = model.predict(input_encoded)[0]\n",
    "\n",
    "print(f\"\\nPredicted pollutant levels for station '{station_id}' in {year_input}:\")\n",
    "for p, val in zip(pollutants, predicted_pollutants):\n",
    "    print(f\"  {p}: {val:.2f}\")\n",
    "\n",
    "# Save the model and column structure\n",
    "joblib.dump(model, 'pollution_model.pkl')\n",
    "joblib.dump(X_encoded.columns.tolist(), \"model_columns.pkl\")\n",
    "print('Model and cols structure are saved!')"
   ]
  }
 ],
 "metadata": {
  "kernelspec": {
   "display_name": "Python 3",
   "language": "python",
   "name": "python3"
  },
  "language_info": {
   "codemirror_mode": {
    "name": "ipython",
    "version": 3
   },
   "file_extension": ".py",
   "mimetype": "text/x-python",
   "name": "python",
   "nbconvert_exporter": "python",
   "pygments_lexer": "ipython3",
   "version": "3.13.1"
  }
 },
 "nbformat": 4,
 "nbformat_minor": 2
}
